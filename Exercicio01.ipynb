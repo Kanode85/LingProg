{
 "cells": [
  {
   "cell_type": "markdown",
   "metadata": {},
   "source": [
    "1. Faça um Programa que peça o raio de um circulo, calucile e mostre sua área."
   ]
  },
  {
   "cell_type": "code",
   "execution_count": 1,
   "metadata": {},
   "outputs": [
    {
     "name": "stdout",
     "output_type": "stream",
     "text": [
      "Insira o raio de um círculo. 2\n",
      "12.566370614359172\n"
     ]
    }
   ],
   "source": [
    "import math\n",
    "\n",
    "r = input(\"Insira o raio de um círculo. \")\n",
    "area = math.pi * (int(r)**2)\n",
    "print(area)"
   ]
  },
  {
   "cell_type": "markdown",
   "metadata": {},
   "source": [
    "2. Faça um programa que calcule a área de um quadrado, em seguida mostre o dobro desta área para o usuario"
   ]
  },
  {
   "cell_type": "code",
   "execution_count": 2,
   "metadata": {},
   "outputs": [
    {
     "name": "stdout",
     "output_type": "stream",
     "text": [
      "Insira tamanho de um dos lados do quadrado. 4\n",
      "A area do quadrado é: 16.00\n",
      "O dobro da Area é: 32.00\n"
     ]
    }
   ],
   "source": [
    "a = input(\"Insira tamanho de um dos lados do quadrado. \")\n",
    "area = int(a)**2\n",
    "dobro_area = area * 2\n",
    "print('A area do quadrado é: %.2f'%area)\n",
    "print('O dobro da Area é: %.2f'%dobro_area)"
   ]
  },
  {
   "cell_type": "markdown",
   "metadata": {},
   "source": [
    "3. Faça um Programa que pergunte quanto você ganha por hora e o numero de horas trabalhadas no mês. Calcule e mostre o total do seu salário no referido mês."
   ]
  },
  {
   "cell_type": "code",
   "execution_count": 3,
   "metadata": {},
   "outputs": [
    {
     "name": "stdout",
     "output_type": "stream",
     "text": [
      "Insira salario por hora. 10\n",
      "quantidade de horas no mês. 220\n",
      "O salario total do mês é 2200.00\n"
     ]
    }
   ],
   "source": [
    "salario_hora = input(\"Insira salario por hora. \")\n",
    "hora_mes = input(\"quantidade de horas no mês. \")\n",
    "salario = int(salario_hora) * int(hora_mes)\n",
    "print(\"O salario total do mês é %.2f\" %salario)"
   ]
  },
  {
   "cell_type": "markdown",
   "metadata": {},
   "source": [
    "4. Faça um programa que peça a temperatura em graus Farenheit, tranforme e mostre a temperatura em graus Celsius.C= (5*(F-32)/9"
   ]
  },
  {
   "cell_type": "code",
   "execution_count": 4,
   "metadata": {},
   "outputs": [
    {
     "name": "stdout",
     "output_type": "stream",
     "text": [
      "Insira A temperatura em Farenheit ºF: 32\n",
      "A tempertura 32.0 ºF convertida em Celsius é: 0.0 ºC\n"
     ]
    }
   ],
   "source": [
    "t = input(\"Insira A temperatura em Farenheit ºF: \")\n",
    "f = float(t)\n",
    "c = (5*(f - 32)/9)\n",
    "print(\"A tempertura {} ºF convertida em Celsius é: {} ºC\" .format(f,c))"
   ]
  },
  {
   "cell_type": "markdown",
   "metadata": {},
   "source": [
    "5. Faça um programa que peça a temperatura em graus Celsius, transforme e mostre em graus Farenheit"
   ]
  },
  {
   "cell_type": "code",
   "execution_count": 5,
   "metadata": {},
   "outputs": [
    {
     "name": "stdout",
     "output_type": "stream",
     "text": [
      "Insira a temperatura em Celsius ºC: 0\n",
      "A tempertura 0.0 ºC convertida em Farenheit é: 32.0 ºf\n"
     ]
    }
   ],
   "source": [
    "t = input(\"Insira a temperatura em Celsius ºC: \")\n",
    "c = float(t)\n",
    "f = (c * 9/5) + 32\n",
    "print(\"A tempertura {} ºC convertida em Farenheit é: {} ºf\" .format(c,f))"
   ]
  },
  {
   "cell_type": "markdown",
   "metadata": {},
   "source": [
    "6. Faça um programa que peça 2 números inteiros e um numero real.Calcule mostre:\n",
    "\n",
    "- O produto do dobro do primeiro com a metade do segundo\n",
    "- a soma do triplo do primeiro com o terceiro \n",
    "- o terceiro elevado ao cubo"
   ]
  },
  {
   "cell_type": "code",
   "execution_count": 6,
   "metadata": {},
   "outputs": [
    {
     "name": "stdout",
     "output_type": "stream",
     "text": [
      "Insira o primeiro numero: 2\n",
      "Insira o segundo numero: 2\n",
      "Insira o numero real: 2.5\n",
      "O produto do dobro do primeiro com a metade do segundo é: 4.0\n",
      "A soma do triplo do primeiro com o terceiro  é: 8.5\n",
      "O terceiro elevado ao cubo é: 15.625\n"
     ]
    }
   ],
   "source": [
    "int_1 = int(input(\"Insira o primeiro numero: \"))\n",
    "int_2 = int(input(\"Insira o segundo numero: \"))\n",
    "real = float(input(\"Insira o numero real: \"))\n",
    "\n",
    "result_1 = (int_1 * 2) * (int_2 / 2)\n",
    "result_2 = (int_1 * 3) + real\n",
    "result_3 = real ** 3\n",
    "\n",
    "print(\"O produto do dobro do primeiro com a metade do segundo é: {}\" .format(result_1))\n",
    "print(\"A soma do triplo do primeiro com o terceiro  é: {}\" .format(result_2))\n",
    "print(\"O terceiro elevado ao cubo é: {}\" .format(result_3))"
   ]
  },
  {
   "cell_type": "markdown",
   "metadata": {},
   "source": [
    "7. João Papo-de-Pescador, homem de bem, comprou um microcomputador para controlar o rendimento diário de seu trabalho. Toda vez que ele traz um peso de peixes maior que o estabelecido pelo regulamento de pesca do estado de São Paulo (50 quilos) deve pagar uma multa de R$ 4,00 por quilo excedente. João precisa que você faça um programa que leia a variável peso (peso de peixes) e verifique se há excesso. Se houver, gravar na variável excesso e na variável multa o valor da multa que João deverá pagar. Caso contrário mostrar tais variáveis com o conteúdo ZERO."
   ]
  },
  {
   "cell_type": "code",
   "execution_count": 7,
   "metadata": {},
   "outputs": [
    {
     "name": "stdout",
     "output_type": "stream",
     "text": [
      "Insira o peso dos peixes: 55\n",
      "O peso excedente é: 5.0\n",
      "O valor da muita é: R$ 20.0\n"
     ]
    }
   ],
   "source": [
    "peso = float(input(\"Insira o peso dos peixes: \"))\n",
    "if peso > 50:\n",
    "    excesso = peso - 50\n",
    "    multa = 4 * excesso\n",
    "else:\n",
    "    excesso = 0\n",
    "    multa = 0\n",
    "\n",
    "print(\"O peso excedente é: {}\" .format(excesso))\n",
    "print(\"O valor da muita é: R$ {}\".format(multa))"
   ]
  },
  {
   "cell_type": "markdown",
   "metadata": {},
   "source": [
    "8. Faça um Programa que pergunte quanto você ganha por hora e o número de horas trabalhadas no mês. Calcule e mostre o total do seu salário no referido mês, sabendo-se que são descontados 11% para o Imposto de Renda, 8% para o INSS e 5% para o sindicato, faça um programa que nos dê:\n",
    " - Salario bruto\n",
    " - quanto pagou ao inss\n",
    " - quanto pagou ao sindicato\n",
    " - o salario líquido\n",
    "    calcule os descontos eo salário liquido, conforme tabela abaixo:\n",
    "         + Salário Bruto: \n",
    "         - IR (11%):\n",
    "         - INSS (8%):\n",
    "         - Sindicato (5%):\n",
    "         = Salário Liquido:\n",
    "         Obs.: Salario Bruto - descontos = salario Liquido.\n",
    " "
   ]
  },
  {
   "cell_type": "code",
   "execution_count": 8,
   "metadata": {},
   "outputs": [
    {
     "name": "stdout",
     "output_type": "stream",
     "text": [
      "Insira salario por hora. 10\n",
      "quantidade de horas no mês. 220\n",
      "+ Salário Bruto:   R$ 2200.0\n",
      "- IR:              R$ 242.0\n",
      "- INSS:            R$ 176.0\n",
      "- Sindicato:       R$ 110.0\n",
      "= Salário Liquido: R$ 1672.0\n"
     ]
    }
   ],
   "source": [
    "salario_hora = float(input(\"Insira salario por hora. \"))\n",
    "hora_mes = int(input(\"quantidade de horas no mês. \"))\n",
    "salario_bruto = salario_hora * hora_mes\n",
    "\n",
    "\n",
    "ir = 0.11 * salario_bruto\n",
    "inss = 0.08 * salario_bruto\n",
    "sindicato = 0.05 * salario_bruto\n",
    "\n",
    "salario_liquido = salario_bruto - (ir + inss + sindicato)\n",
    "\n",
    "print(\"+ Salário Bruto:   R$ {}\" .format(salario_bruto))\n",
    "print(\"- IR:              R$ {}\" .format(ir))\n",
    "print(\"- INSS:            R$ {}\" .format(inss))\n",
    "print(\"- Sindicato:       R$ {}\" .format(sindicato))\n",
    "print(\"= Salário Liquido: R$ {}\" .format(salario_liquido))\n",
    "\n"
   ]
  },
  {
   "cell_type": "markdown",
   "metadata": {},
   "source": [
    "## Strings"
   ]
  },
  {
   "cell_type": "markdown",
   "metadata": {},
   "source": [
    "9. Faça um programa que leia 2 strings e informe o conteúdo delas seguido do seu comprimento. Informe também se as duas strings possuem o mesmo comprimento e são iguais ou diferentes no conteúdo. \n",
    "    Exemplo:\n",
    "        String 1: Brasil Hexa 2018\n",
    "        String 2: Brasil! Hexa 2018!\n",
    "        Tamanho de \"Brasil Hexa 2018\": 16 caracteres\n",
    "        Tamanho de \"Brasil! Hexa 2018!\": 18 caracteres\n",
    "        As duas strings são de tamanhos diferentes.\n",
    "        As duas strings possuem conteúdo diferente."
   ]
  },
  {
   "cell_type": "code",
   "execution_count": 9,
   "metadata": {},
   "outputs": [
    {
     "name": "stdout",
     "output_type": "stream",
     "text": [
      "Insira a primeira string: Teste primeira string!\n",
      "Insira a segunda string: Teste segunda string\n",
      "String 1: Teste primeira string!\n",
      "String 2: Teste segunda string\n",
      "Tamanho de \"Teste primeira string!\": 22 caracteres\n",
      "Tamanho de \"Teste segunda string\": 20 caracteres\n",
      "As duas strings são de tamanhos diferentes.\n",
      "As duas strings possuem conteúdo diferente.\n"
     ]
    }
   ],
   "source": [
    "string_1 = input(\"Insira a primeira string: \")\n",
    "string_2 = input(\"Insira a segunda string: \")\n",
    "\n",
    "compr_1 = len(string_1)\n",
    "compr_2 = len(string_2)\n",
    "\n",
    "\n",
    "print(f\"String 1: {string_1}\")\n",
    "print(f\"String 2: {string_2}\")\n",
    "print(f'Tamanho de \"{string_1}\": {compr_1} caracteres')\n",
    "print(f'Tamanho de \"{string_2}\": {compr_2} caracteres')\n",
    "\n",
    "if compr_1 == compr_2:\n",
    "    print(\"As duas strings são de tamanhos iguais.\")\n",
    "else:\n",
    "    print(\"As duas strings são de tamanhos diferentes.\")\n",
    "\n",
    "if string_1 == string_2:\n",
    "    print(\"As duas strings possuem conteúdo igual.\")\n",
    "else:\n",
    "    print(\"As duas strings possuem conteúdo diferente.\")\n",
    "        \n"
   ]
  },
  {
   "cell_type": "markdown",
   "metadata": {},
   "source": [
    "10. Faça um programa que permita ao usuário digitar o seu nome e em seguida mostre o nome do usuário de trás para frente utilizando somente letras maiúsculas. Dica: lembre−se que ao informar o nome o usuário pode digitar letras maiúsculas ou minúsculas. Observação: não use loops. "
   ]
  },
  {
   "cell_type": "code",
   "execution_count": 10,
   "metadata": {},
   "outputs": [
    {
     "name": "stdout",
     "output_type": "stream",
     "text": [
      "Insira seu nome: Andre\n",
      "ERDNA\n"
     ]
    }
   ],
   "source": [
    "nome = input(\"Insira seu nome: \")\n",
    "\n",
    "nome_upper = nome.upper()\n",
    "\n",
    "print(nome_upper[::-1])"
   ]
  },
  {
   "cell_type": "markdown",
   "metadata": {},
   "source": [
    "11. Faça um programa que solicite a data de nascimento (dd/mm/aaaa) do usuário e imprima a data com o nome do mês por extenso.\n",
    "    Data de Nascimento: 29/10/1973 \n",
    "    Você nasceu em 29 de Outubro de 1973. \n",
    "    Obs.: Não use desvio condicional nem loops."
   ]
  },
  {
   "cell_type": "code",
   "execution_count": 11,
   "metadata": {},
   "outputs": [
    {
     "name": "stdout",
     "output_type": "stream",
     "text": [
      "Insira sua data de nascimento '(DD/MM/YYYY)': 08/03/1985\n",
      "Data de Nascimento: 08/03/1985\n",
      "Você nasceu em 08 de março de 1985\n"
     ]
    }
   ],
   "source": [
    "\n",
    "\n",
    "data_nasc = input(\"Insira sua data de nascimento '(DD/MM/YYYY)': \")\n",
    "mes_extenso = ['janeiro', 'fevereiro', 'março', 'abril', 'maio', 'junho', 'julho' , 'agosto', 'setembro', 'outubro', 'novembro', 'dezembro']\n",
    "\n",
    "dia, mes, ano = data_nasc.split('/')\n",
    "\n",
    "print(f'Data de Nascimento: {data_nasc}')\n",
    "print(f'Você nasceu em {dia} de {mes_extenso[int(mes)-1]} de {ano}')\n"
   ]
  },
  {
   "cell_type": "markdown",
   "metadata": {},
   "source": [
    "12. Leet é uma forma de se escrever o alfabeto latino usando outros símbolos em lugar das letras, como números por exemplo. A própria palavra leet admite muitas variações, como l33t ou 1337. O uso do leet reflete uma subcultura relacionada ao mundo dos jogos de computador e internet, sendo muito usada para confundir os iniciantes e afirmar-se como parte de um grupo. Pesquise sobre as principais formas de traduzir as letras. Depois, faça um programa que peça uma texto e transforme-o para a grafia leet speak. Desafio: não use loops nem desvios condicionais.\n"
   ]
  },
  {
   "cell_type": "code",
   "execution_count": 12,
   "metadata": {},
   "outputs": [
    {
     "name": "stdout",
     "output_type": "stream",
     "text": [
      "Insira o texto a ser convertido: Testando o Leet Speak, Convertendo a frase para leet\n",
      "Texto convertido para Leet Speak: T35t4nd0 0 L33t Sp34k, C0nv3rt3nd0 4 fr453 p4r4 133t\n"
     ]
    }
   ],
   "source": [
    "texto = input(\"Insira o texto a ser convertido: \")\n",
    "\n",
    "texto_convertido = texto.replace('a', '4')\n",
    "texto_convertido = texto_convertido.replace('e', '3')\n",
    "texto_convertido = texto_convertido.replace('l', '1')\n",
    "texto_convertido = texto_convertido.replace('o', '0')\n",
    "texto_convertido = texto_convertido.replace('s', '5')\n",
    "\n",
    "print(f'Texto convertido para Leet Speak: {texto_convertido}')\n"
   ]
  },
  {
   "cell_type": "code",
   "execution_count": null,
   "metadata": {},
   "outputs": [],
   "source": []
  }
 ],
 "metadata": {
  "kernelspec": {
   "display_name": "Python 3",
   "language": "python",
   "name": "python3"
  },
  "language_info": {
   "codemirror_mode": {
    "name": "ipython",
    "version": 3
   },
   "file_extension": ".py",
   "mimetype": "text/x-python",
   "name": "python",
   "nbconvert_exporter": "python",
   "pygments_lexer": "ipython3",
   "version": "3.7.3"
  }
 },
 "nbformat": 4,
 "nbformat_minor": 2
}
